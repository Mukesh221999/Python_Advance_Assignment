{
 "cells": [
  {
   "cell_type": "markdown",
   "id": "f0e8e24c",
   "metadata": {},
   "source": [
    "# Q1. Does assigning a value to a string&#39;s indexed character violate Python&#39;s string immutability?"
   ]
  },
  {
   "cell_type": "code",
   "execution_count": null,
   "id": "72be4ad3",
   "metadata": {},
   "outputs": [],
   "source": [
    "String’s indexed character cannot to be assigned a New value as Strings are immutable.\n"
   ]
  },
  {
   "cell_type": "code",
   "execution_count": 1,
   "id": "ddc80d47",
   "metadata": {},
   "outputs": [
    {
     "name": "stdout",
     "output_type": "stream",
     "text": [
      "2061408415920\n"
     ]
    },
    {
     "ename": "TypeError",
     "evalue": "'str' object does not support item assignment",
     "output_type": "error",
     "traceback": [
      "\u001b[1;31m---------------------------------------------------------------------------\u001b[0m",
      "\u001b[1;31mTypeError\u001b[0m                                 Traceback (most recent call last)",
      "\u001b[1;32m~\\AppData\\Local\\Temp/ipykernel_1784/2589427019.py\u001b[0m in \u001b[0;36m<module>\u001b[1;34m\u001b[0m\n\u001b[0;32m      2\u001b[0m \u001b[0mname\u001b[0m \u001b[1;33m=\u001b[0m \u001b[1;34m\"Reinforcement\"\u001b[0m\u001b[1;33m\u001b[0m\u001b[1;33m\u001b[0m\u001b[0m\n\u001b[0;32m      3\u001b[0m \u001b[0mprint\u001b[0m\u001b[1;33m(\u001b[0m\u001b[0mid\u001b[0m\u001b[1;33m(\u001b[0m\u001b[0mname\u001b[0m\u001b[1;33m)\u001b[0m\u001b[1;33m)\u001b[0m \u001b[1;31m#73472\u001b[0m\u001b[1;33m\u001b[0m\u001b[1;33m\u001b[0m\u001b[0m\n\u001b[1;32m----> 4\u001b[1;33m \u001b[0mname\u001b[0m\u001b[1;33m[\u001b[0m\u001b[1;36m0\u001b[0m\u001b[1;33m]\u001b[0m \u001b[1;33m=\u001b[0m \u001b[1;34m\"V\"\u001b[0m \u001b[1;31m# Raises TypeError\u001b[0m\u001b[1;33m\u001b[0m\u001b[1;33m\u001b[0m\u001b[0m\n\u001b[0m",
      "\u001b[1;31mTypeError\u001b[0m: 'str' object does not support item assignment"
     ]
    }
   ],
   "source": [
    "#Example:\n",
    "name = \"Reinforcement\"\n",
    "print(id(name)) #73472\n",
    "name[0] = \"V\" # Raises TypeError"
   ]
  },
  {
   "cell_type": "markdown",
   "id": "ba7c7dfa",
   "metadata": {},
   "source": [
    "# Q2. Does using the += operator to concatenate strings violate Python&#39;s string immutability? Why or why not?"
   ]
  },
  {
   "cell_type": "markdown",
   "id": "edac552b",
   "metadata": {},
   "source": [
    "+= operator is used to concatenate strings. It does not violate Python’s string immutability Property because doing so creates a new association with data and variable. E.g. str_1=\"a\" and str_1+=\"b. Effect of this statement is to create string ab and reassign it to variable str_1. Any string data is not actually modified."
   ]
  },
  {
   "cell_type": "code",
   "execution_count": 2,
   "id": "51211a3f",
   "metadata": {},
   "outputs": [
    {
     "name": "stdout",
     "output_type": "stream",
     "text": [
      "2061333747248\n",
      "2061408266864\n"
     ]
    }
   ],
   "source": [
    "str_1 = 'a'\n",
    "print(id(str_1))\n",
    "str_1 += 'b'\n",
    "print(id(str_1)) # Does not Modify existing string, Creates a New String Object\n"
   ]
  },
  {
   "cell_type": "markdown",
   "id": "224508bb",
   "metadata": {},
   "source": [
    "# Q3. In Python, how many different ways are there to index a character?"
   ]
  },
  {
   "cell_type": "markdown",
   "id": "08c53753",
   "metadata": {},
   "source": [
    "A Character in string can be indexed using string name followed by index number of character in square bracket. Positive Indexing i.e. first index is 0 an so on, or Negative Indexing i.e. last letter is -1 and so on can be used to index a character"
   ]
  },
  {
   "cell_type": "code",
   "execution_count": 3,
   "id": "781c0a11",
   "metadata": {},
   "outputs": [
    {
     "name": "stdout",
     "output_type": "stream",
     "text": [
      "u l e\n",
      "e i c\n"
     ]
    }
   ],
   "source": [
    "in_string = \"iNeuron Full Stack Data Science\"\n",
    "print(in_string[9],in_string[10],in_string[2]) # Positive Indexing\n",
    "print(in_string[-1],in_string[-5],in_string[-2]) # Negative Indexing"
   ]
  },
  {
   "cell_type": "markdown",
   "id": "5f73bad4",
   "metadata": {},
   "source": [
    "# Q4. What is the relationship between indexing and slicing?"
   ]
  },
  {
   "cell_type": "code",
   "execution_count": null,
   "id": "53473d38",
   "metadata": {},
   "outputs": [],
   "source": [
    "We can access elements of sequence datatypes by using slicing and indexing. \n",
    "Indexing is used to obtaining individual element while slicing for sequence of elements."
   ]
  },
  {
   "cell_type": "code",
   "execution_count": 4,
   "id": "6677ee57",
   "metadata": {},
   "outputs": [
    {
     "name": "stdout",
     "output_type": "stream",
     "text": [
      "N u o\n",
      "Neuron Full St\n"
     ]
    }
   ],
   "source": [
    "in_string = \"iNeuron Full Stack Data Science\"\n",
    "print(in_string[1],in_string[3],in_string[5]) # Indexing\n",
    "print(in_string[1:15]) # Slicing\n"
   ]
  },
  {
   "cell_type": "markdown",
   "id": "818529eb",
   "metadata": {},
   "source": [
    "# Q5. What is an indexed character&#39;s exact data type? What is the data form of a slicing-generated substring?"
   ]
  },
  {
   "cell_type": "code",
   "execution_count": null,
   "id": "21805f89",
   "metadata": {},
   "outputs": [],
   "source": [
    "Indexed characters and sliced substrings have datatype String."
   ]
  },
  {
   "cell_type": "code",
   "execution_count": 5,
   "id": "bf359c85",
   "metadata": {},
   "outputs": [
    {
     "name": "stdout",
     "output_type": "stream",
     "text": [
      "<class 'str'>\n",
      "<class 'str'>\n"
     ]
    }
   ],
   "source": [
    "in_string = \"iNeuron Full Stack Data Science\"\n",
    "print(type(in_string[3])) # Indexing -> str\n",
    "print(type(in_string[1:10])) # Indexing -> str\n"
   ]
  },
  {
   "cell_type": "markdown",
   "id": "cfa5e8c1",
   "metadata": {},
   "source": [
    "# Q6. What is the relationship between string and character &quot;types&quot; in Python?"
   ]
  },
  {
   "cell_type": "code",
   "execution_count": null,
   "id": "536286bb",
   "metadata": {},
   "outputs": [],
   "source": [
    "Object that contains sequence of character datatypes are called String."
   ]
  },
  {
   "cell_type": "markdown",
   "id": "e8d76ce4",
   "metadata": {},
   "source": [
    "# Q7. Identify at least two operators and one method that allow you to combine one or more smaller strings to create a larger string."
   ]
  },
  {
   "cell_type": "markdown",
   "id": "efb95af7",
   "metadata": {},
   "source": [
    "+, += and * allow to combine one or more smaller strings to create a larger string. .join() method joins element of iterable type like list and tuple to get a combined string."
   ]
  },
  {
   "cell_type": "code",
   "execution_count": 6,
   "id": "962172c3",
   "metadata": {},
   "outputs": [
    {
     "name": "stdout",
     "output_type": "stream",
     "text": [
      "iNeuron Full Stack Data Science FSDS\n",
      "FSDS FSDS FSDS \n",
      "I N E U R O N\n",
      "i n e u r o n\n"
     ]
    }
   ],
   "source": [
    "in_string = 'iNeuron '\n",
    "in_string += 'Full Stack Data Science'\n",
    "print(in_string + ' FSDS')\n",
    "print('FSDS '*3)\n",
    "print(\" \".join(['I','N','E','U','R','O','N'])) # List Iterable\n",
    "print(\" \".join(('I','N','E','U','R','O','N')).lower()) # Tuple Iterable\n"
   ]
  },
  {
   "cell_type": "markdown",
   "id": "81fc8eee",
   "metadata": {},
   "source": [
    "# Q8. What is the benefit of first checking the target string with in or not in before using the index method to find a substring?"
   ]
  },
  {
   "cell_type": "markdown",
   "id": "279200a5",
   "metadata": {},
   "source": [
    "Checking the target string with in or not Operators before using the index method to find a substring just helps confirming availability of substring and thus avoid raising of ValueError.\n"
   ]
  },
  {
   "cell_type": "code",
   "execution_count": 7,
   "id": "f8c5be63",
   "metadata": {},
   "outputs": [
    {
     "ename": "ValueError",
     "evalue": "substring not found",
     "output_type": "error",
     "traceback": [
      "\u001b[1;31m---------------------------------------------------------------------------\u001b[0m",
      "\u001b[1;31mValueError\u001b[0m                                Traceback (most recent call last)",
      "\u001b[1;32m~\\AppData\\Local\\Temp/ipykernel_1784/1182425229.py\u001b[0m in \u001b[0;36m<module>\u001b[1;34m\u001b[0m\n\u001b[0;32m      1\u001b[0m \u001b[0min_string\u001b[0m \u001b[1;33m=\u001b[0m \u001b[1;34m\"ineuron\"\u001b[0m\u001b[1;33m\u001b[0m\u001b[1;33m\u001b[0m\u001b[0m\n\u001b[1;32m----> 2\u001b[1;33m \u001b[0min_string\u001b[0m\u001b[1;33m.\u001b[0m\u001b[0mindex\u001b[0m\u001b[1;33m(\u001b[0m\u001b[1;34m'x'\u001b[0m\u001b[1;33m)\u001b[0m \u001b[1;31m# Raises ValueError\u001b[0m\u001b[1;33m\u001b[0m\u001b[1;33m\u001b[0m\u001b[0m\n\u001b[0m\u001b[0;32m      3\u001b[0m \u001b[0min_string\u001b[0m\u001b[1;33m.\u001b[0m\u001b[0mindex\u001b[0m\u001b[1;33m(\u001b[0m\u001b[1;34m'u'\u001b[0m\u001b[1;33m)\u001b[0m \u001b[1;31m# 3\u001b[0m\u001b[1;33m\u001b[0m\u001b[1;33m\u001b[0m\u001b[0m\n",
      "\u001b[1;31mValueError\u001b[0m: substring not found"
     ]
    }
   ],
   "source": [
    "in_string = \"ineuron\"\n",
    "in_string.index('x') # Raises ValueError\n",
    "in_string.index('u') # 3"
   ]
  },
  {
   "cell_type": "markdown",
   "id": "d8560ba0",
   "metadata": {},
   "source": [
    "# Q9. Which operators and built-in string methods produce simple Boolean (true/false) results?"
   ]
  },
  {
   "cell_type": "markdown",
   "id": "602590c2",
   "metadata": {},
   "source": [
    "The String Operators and built-in methods to Produce Simple Boolean (True/False) Results are:\n",
    "\n",
    " in\n",
    " not\n",
    ".isalpha()\n",
    ".isalnum()\n",
    ".isdecimal()\n",
    ".isdigit()\n",
    ".islower()\n",
    ".isnumeric()\n",
    ".isprintable()\n",
    ".isspace()\n",
    ".istitle()"
   ]
  }
 ],
 "metadata": {
  "kernelspec": {
   "display_name": "Python 3 (ipykernel)",
   "language": "python",
   "name": "python3"
  },
  "language_info": {
   "codemirror_mode": {
    "name": "ipython",
    "version": 3
   },
   "file_extension": ".py",
   "mimetype": "text/x-python",
   "name": "python",
   "nbconvert_exporter": "python",
   "pygments_lexer": "ipython3",
   "version": "3.9.7"
  }
 },
 "nbformat": 4,
 "nbformat_minor": 5
}
