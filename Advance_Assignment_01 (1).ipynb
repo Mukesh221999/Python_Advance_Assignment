{
 "cells": [
  {
   "cell_type": "markdown",
   "id": "660b9e40",
   "metadata": {},
   "source": [
    "# Q1. What is the purpose of Python&#39;s OOP?"
   ]
  },
  {
   "cell_type": "markdown",
   "id": "b7f63dbd",
   "metadata": {},
   "source": [
    "Object-oriented programming is a programming paradigm that provides a means of structuring programs so that properties and behaviors are bundled into individual objects\n",
    "\n",
    "1.In Python, object-oriented Programming (OOPs) uses objects and classes in programming.\n",
    "2.It aims to implement real-world entities like inheritance, polymorphisms, encapsulation, etc. in the programming.\n",
    "3.The main concept of OOPs is to bind the data and the functions that work on that together as a single unit so that no other     part of the code can access this data.\n",
    "\n",
    "Some Advantages are mentioned below:\n",
    "\n",
    "1.It helps to divide our over all program into different small segments and thus making problem solving easy through the use of   objects\n",
    "2.Helps in easy maintenance and modification of existing program\n",
    "3.Multiple instances of an object can be made and explored."
   ]
  },
  {
   "cell_type": "markdown",
   "id": "bf78fd84",
   "metadata": {},
   "source": [
    "# Q2. Where does an inheritance search look for an attribute?"
   ]
  },
  {
   "cell_type": "code",
   "execution_count": null,
   "id": "c2c16bd9",
   "metadata": {},
   "outputs": [],
   "source": [
    "Python searches for an attribute in an upward tree of attributes. \n",
    "Tt first searches for the attribute in its instance and then looks in the class it is generated from, to all super classes listed in its class header"
   ]
  },
  {
   "cell_type": "markdown",
   "id": "a1ba2f21",
   "metadata": {},
   "source": [
    "# Q3. How do you distinguish between a class object and an instance object?"
   ]
  },
  {
   "cell_type": "code",
   "execution_count": null,
   "id": "487da8b9",
   "metadata": {},
   "outputs": [],
   "source": [
    "The differences between a class object and an instance object are:\n",
    "\n",
    "1.Class is a template for creating objects whereas object is an instance of class\n",
    "2.Seperate memory is allocated for each object whenever an object is created. but for a class this doesnot happens.\n",
    "3.A Class is created once. Many objects are created using a class.\n",
    "4.As Classes have no allocated memory. they can't be manipulated. but objects can be manipulated."
   ]
  },
  {
   "cell_type": "markdown",
   "id": "1e68c3f6",
   "metadata": {},
   "source": [
    "# Q4. What makes the first argument in a class’s method function special?"
   ]
  },
  {
   "cell_type": "code",
   "execution_count": null,
   "id": "efd8927c",
   "metadata": {},
   "outputs": [],
   "source": [
    "Python Classes usually have three types of methods which are:\n",
    "\n",
    "1.Instance Methods (object level methods)\n",
    "2.Class Methods (class level methods)\n",
    "3.Static Methods (general utility methods)\n",
    "4.self is the first argument for instance methods. which refers to the object itself\n",
    "5.cls is the first argument for class methods which refers to the class itself"
   ]
  },
  {
   "cell_type": "markdown",
   "id": "6dd98f29",
   "metadata": {},
   "source": [
    "# Q5. What is the purpose of the __init__ method?"
   ]
  },
  {
   "cell_type": "code",
   "execution_count": null,
   "id": "a4036f85",
   "metadata": {},
   "outputs": [],
   "source": [
    "__init__ is a reseved method in python classes. It serves the role of a constructor in object oriented terminology. \n",
    "This method is called when an object is created from a class and it allows the class to initialize the attributes of the class"
   ]
  },
  {
   "cell_type": "markdown",
   "id": "6aaee861",
   "metadata": {},
   "source": [
    "# Q6. What is the process for creating a class instance?"
   ]
  },
  {
   "cell_type": "code",
   "execution_count": null,
   "id": "1da5466f",
   "metadata": {},
   "outputs": [],
   "source": [
    "To create a class instance, we need to call the class by its name and pass the arguments to the class, which its init method accepts"
   ]
  },
  {
   "cell_type": "code",
   "execution_count": 2,
   "id": "8e5b98d7",
   "metadata": {},
   "outputs": [],
   "source": [
    "Example: \n",
    "my_name = my_class(\"Mukesh\",\"kamaliya\") Here my_name is an instance of class my_class with attributes \"mukesh\" and \"Kamaliya\"."
   ]
  },
  {
   "cell_type": "markdown",
   "id": "9f8e83e0",
   "metadata": {},
   "source": [
    "# Q7. What is the process for creating a class?"
   ]
  },
  {
   "cell_type": "code",
   "execution_count": null,
   "id": "68393fa9",
   "metadata": {},
   "outputs": [],
   "source": [
    "class keyword is used to created a class in python. The syntax to create a class in python is class :"
   ]
  },
  {
   "cell_type": "code",
   "execution_count": null,
   "id": "4608e43b",
   "metadata": {},
   "outputs": [],
   "source": [
    "class Shape: ➞ this creates a class called Shape"
   ]
  },
  {
   "cell_type": "markdown",
   "id": "4a116fc8",
   "metadata": {},
   "source": [
    "# Q8. How would you define the superclasses of a class?"
   ]
  },
  {
   "cell_type": "code",
   "execution_count": null,
   "id": "efec0e1e",
   "metadata": {},
   "outputs": [],
   "source": [
    "Superclass/Parent class is given as a arugment to the child class"
   ]
  },
  {
   "cell_type": "code",
   "execution_count": null,
   "id": "35bff656",
   "metadata": {},
   "outputs": [],
   "source": [
    "class Employee(Person): Here child class Employee inherits attributes and methods/functions from Superclass/Parent Person"
   ]
  }
 ],
 "metadata": {
  "kernelspec": {
   "display_name": "Python 3 (ipykernel)",
   "language": "python",
   "name": "python3"
  },
  "language_info": {
   "codemirror_mode": {
    "name": "ipython",
    "version": 3
   },
   "file_extension": ".py",
   "mimetype": "text/x-python",
   "name": "python",
   "nbconvert_exporter": "python",
   "pygments_lexer": "ipython3",
   "version": "3.9.7"
  }
 },
 "nbformat": 4,
 "nbformat_minor": 5
}
